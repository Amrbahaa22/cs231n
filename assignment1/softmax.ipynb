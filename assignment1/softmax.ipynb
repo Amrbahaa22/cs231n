{
 "cells": [
  {
   "cell_type": "markdown",
   "metadata": {},
   "source": [
    "# Softmax exercise\n",
    "\n",
    "*Complete and hand in this completed worksheet (including its outputs and any supporting code outside of the worksheet) with your assignment submission. For more details see the [assignments page](http://vision.stanford.edu/teaching/cs231n/assignments.html) on the course website.*\n",
    "\n",
    "This exercise is analogous to the SVM exercise. You will:\n",
    "\n",
    "- implement a fully-vectorized **loss function** for the Softmax classifier\n",
    "- implement the fully-vectorized expression for its **analytic gradient**\n",
    "- **check your implementation** with numerical gradient\n",
    "- use a validation set to **tune the learning rate and regularization** strength\n",
    "- **optimize** the loss function with **SGD**\n",
    "- **visualize** the final learned weights\n"
   ]
  },
  {
   "cell_type": "code",
   "execution_count": 1,
   "metadata": {
    "collapsed": false
   },
   "outputs": [],
   "source": [
    "import random\n",
    "import numpy as np\n",
    "from cs231n.data_utils import load_CIFAR10\n",
    "import matplotlib.pyplot as plt\n",
    "\n",
    "from __future__ import print_function\n",
    "\n",
    "%matplotlib inline\n",
    "plt.rcParams['figure.figsize'] = (10.0, 8.0) # set default size of plots\n",
    "plt.rcParams['image.interpolation'] = 'nearest'\n",
    "plt.rcParams['image.cmap'] = 'gray'\n",
    "\n",
    "# for auto-reloading extenrnal modules\n",
    "# see http://stackoverflow.com/questions/1907993/autoreload-of-modules-in-ipython\n",
    "%load_ext autoreload\n",
    "%autoreload 2"
   ]
  },
  {
   "cell_type": "code",
   "execution_count": 2,
   "metadata": {
    "collapsed": false
   },
   "outputs": [
    {
     "name": "stdout",
     "output_type": "stream",
     "text": [
      "Train data shape:  (49000, 3073)\n",
      "Train labels shape:  (49000,)\n",
      "Validation data shape:  (1000, 3073)\n",
      "Validation labels shape:  (1000,)\n",
      "Test data shape:  (1000, 3073)\n",
      "Test labels shape:  (1000,)\n",
      "dev data shape:  (500, 3073)\n",
      "dev labels shape:  (500,)\n"
     ]
    }
   ],
   "source": [
    "def get_CIFAR10_data(num_training=49000, num_validation=1000, num_test=1000, num_dev=500):\n",
    "    \"\"\"\n",
    "    Load the CIFAR-10 dataset from disk and perform preprocessing to prepare\n",
    "    it for the linear classifier. These are the same steps as we used for the\n",
    "    SVM, but condensed to a single function.  \n",
    "    \"\"\"\n",
    "    # Load the raw CIFAR-10 data\n",
    "    cifar10_dir = 'cs231n/datasets/cifar-10-batches-py'\n",
    "    X_train, y_train, X_test, y_test = load_CIFAR10(cifar10_dir)\n",
    "    \n",
    "    # subsample the data\n",
    "    mask = list(range(num_training, num_training + num_validation))\n",
    "    X_val = X_train[mask]\n",
    "    y_val = y_train[mask]\n",
    "    mask = list(range(num_training))\n",
    "    X_train = X_train[mask]\n",
    "    y_train = y_train[mask]\n",
    "    mask = list(range(num_test))\n",
    "    X_test = X_test[mask]\n",
    "    y_test = y_test[mask]\n",
    "    mask = np.random.choice(num_training, num_dev, replace=False)\n",
    "    X_dev = X_train[mask]\n",
    "    y_dev = y_train[mask]\n",
    "    \n",
    "    # Preprocessing: reshape the image data into rows\n",
    "    X_train = np.reshape(X_train, (X_train.shape[0], -1))\n",
    "    X_val = np.reshape(X_val, (X_val.shape[0], -1))\n",
    "    X_test = np.reshape(X_test, (X_test.shape[0], -1))\n",
    "    X_dev = np.reshape(X_dev, (X_dev.shape[0], -1))\n",
    "    \n",
    "    # Normalize the data: subtract the mean image\n",
    "    mean_image = np.mean(X_train, axis = 0)\n",
    "    X_train -= mean_image\n",
    "    X_val -= mean_image\n",
    "    X_test -= mean_image\n",
    "    X_dev -= mean_image\n",
    "    \n",
    "    # add bias dimension and transform into columns\n",
    "    X_train = np.hstack([X_train, np.ones((X_train.shape[0], 1))])\n",
    "    X_val = np.hstack([X_val, np.ones((X_val.shape[0], 1))])\n",
    "    X_test = np.hstack([X_test, np.ones((X_test.shape[0], 1))])\n",
    "    X_dev = np.hstack([X_dev, np.ones((X_dev.shape[0], 1))])\n",
    "    \n",
    "    return X_train, y_train, X_val, y_val, X_test, y_test, X_dev, y_dev\n",
    "\n",
    "\n",
    "# Invoke the above function to get our data.\n",
    "X_train, y_train, X_val, y_val, X_test, y_test, X_dev, y_dev = get_CIFAR10_data()\n",
    "print('Train data shape: ', X_train.shape)\n",
    "print('Train labels shape: ', y_train.shape)\n",
    "print('Validation data shape: ', X_val.shape)\n",
    "print('Validation labels shape: ', y_val.shape)\n",
    "print('Test data shape: ', X_test.shape)\n",
    "print('Test labels shape: ', y_test.shape)\n",
    "print('dev data shape: ', X_dev.shape)\n",
    "print('dev labels shape: ', y_dev.shape)"
   ]
  },
  {
   "cell_type": "markdown",
   "metadata": {},
   "source": [
    "## Softmax Classifier\n",
    "\n",
    "Your code for this section will all be written inside **cs231n/classifiers/softmax.py**. \n"
   ]
  },
  {
   "cell_type": "code",
   "execution_count": 3,
   "metadata": {
    "collapsed": false
   },
   "outputs": [
    {
     "name": "stdout",
     "output_type": "stream",
     "text": [
      "loss: 2.339368\n",
      "sanity check: 2.302585\n"
     ]
    }
   ],
   "source": [
    "# First implement the naive softmax loss function with nested loops.\n",
    "# Open the file cs231n/classifiers/softmax.py and implement the\n",
    "# softmax_loss_naive function.\n",
    "\n",
    "from cs231n.classifiers.softmax import softmax_loss_naive\n",
    "import time\n",
    "\n",
    "# Generate a random softmax weight matrix and use it to compute the loss.\n",
    "W = np.random.randn(3073, 10) * 0.0001\n",
    "loss, grad = softmax_loss_naive(W, X_dev, y_dev, 0.0)\n",
    "\n",
    "# As a rough sanity check, our loss should be something close to -log(0.1).\n",
    "print('loss: %f' % loss)\n",
    "print('sanity check: %f' % (-np.log(0.1)))"
   ]
  },
  {
   "cell_type": "markdown",
   "metadata": {},
   "source": [
    "## Inline Question 1:\n",
    "Why do we expect our loss to be close to -log(0.1)? Explain briefly.**\n",
    "\n",
    "**Your answer:** *Fill this in*\n",
    "**Answer:** because we have ten class, if we assued that with random weight matrix will be 10 percent so the log of softmax function will be close -log(1/10)\n"
   ]
  },
  {
   "cell_type": "code",
   "execution_count": 9,
   "metadata": {
    "collapsed": false
   },
   "outputs": [
    {
     "name": "stdout",
     "output_type": "stream",
     "text": [
      "numerical: -0.415842 analytic: -0.415842, relative error: 7.593730e-08\n",
      "numerical: 0.536411 analytic: 0.536411, relative error: 7.273652e-09\n",
      "numerical: 0.871151 analytic: 0.871151, relative error: 1.153340e-08\n",
      "numerical: 1.954066 analytic: 1.954065, relative error: 1.630583e-08\n",
      "numerical: 0.275951 analytic: 0.275951, relative error: 3.253663e-07\n",
      "numerical: 0.920269 analytic: 0.920269, relative error: 2.099307e-08\n",
      "numerical: -0.885503 analytic: -0.885503, relative error: 6.642626e-10\n",
      "numerical: 1.195682 analytic: 1.195682, relative error: 1.170318e-10\n",
      "numerical: 2.686528 analytic: 2.686528, relative error: 1.256101e-08\n",
      "numerical: 0.625409 analytic: 0.625409, relative error: 7.943821e-08\n",
      "numerical: 4.860976 analytic: 4.860976, relative error: 1.073659e-08\n",
      "numerical: -0.669158 analytic: -0.669158, relative error: 3.392559e-08\n",
      "numerical: -0.146472 analytic: -0.146472, relative error: 2.591756e-07\n",
      "numerical: -0.750879 analytic: -0.750879, relative error: 1.929371e-08\n",
      "numerical: -0.281338 analytic: -0.281338, relative error: 1.936517e-07\n",
      "numerical: -0.127472 analytic: -0.127472, relative error: 2.655558e-07\n",
      "numerical: -2.769438 analytic: -2.769438, relative error: 1.169762e-08\n",
      "numerical: 2.881994 analytic: 2.881994, relative error: 1.208815e-08\n",
      "numerical: -3.654985 analytic: -3.654985, relative error: 1.085197e-09\n",
      "numerical: 0.315925 analytic: 0.315925, relative error: 1.174899e-07\n"
     ]
    }
   ],
   "source": [
    "# Complete the implementation of softmax_loss_naive and implement a (naive)\n",
    "# version of the gradient that uses nested loops.\n",
    "loss, grad = softmax_loss_naive(W, X_dev, y_dev, 0.0)\n",
    "\n",
    "# As we did for the SVM, use numeric gradient checking as a debugging tool.\n",
    "# The numeric gradient should be close to the analytic gradient.\n",
    "from cs231n.gradient_check import grad_check_sparse\n",
    "f = lambda w: softmax_loss_naive(w, X_dev, y_dev, 0.0)[0]\n",
    "grad_numerical = grad_check_sparse(f, W, grad, 10)\n",
    "\n",
    "# similar to SVM case, do another gradient check with regularization\n",
    "loss, grad = softmax_loss_naive(W, X_dev, y_dev, 5e1)\n",
    "f = lambda w: softmax_loss_naive(w, X_dev, y_dev, 5e1)[0]\n",
    "grad_numerical = grad_check_sparse(f, W, grad, 10)"
   ]
  },
  {
   "cell_type": "code",
   "execution_count": 5,
   "metadata": {
    "collapsed": false
   },
   "outputs": [
    {
     "name": "stdout",
     "output_type": "stream",
     "text": [
      "naive loss: 2.339368e+00 computed in 0.154626s\n",
      "vectorized loss: 2.339368e+00 computed in 0.010772s\n",
      "Loss difference: 0.000000\n",
      "Gradient difference: 0.000000\n"
     ]
    }
   ],
   "source": [
    "# Now that we have a naive implementation of the softmax loss function and its gradient,\n",
    "# implement a vectorized version in softmax_loss_vectorized.\n",
    "# The two versions should compute the same results, but the vectorized version should be\n",
    "# much faster.\n",
    "tic = time.time()\n",
    "loss_naive, grad_naive = softmax_loss_naive(W, X_dev, y_dev, 0.000005)\n",
    "toc = time.time()\n",
    "print('naive loss: %e computed in %fs' % (loss_naive, toc - tic))\n",
    "\n",
    "from cs231n.classifiers.softmax import softmax_loss_vectorized\n",
    "tic = time.time()\n",
    "loss_vectorized, grad_vectorized = softmax_loss_vectorized(W, X_dev, y_dev, 0.000005)\n",
    "toc = time.time()\n",
    "print('vectorized loss: %e computed in %fs' % (loss_vectorized, toc - tic))\n",
    "\n",
    "# As we did for the SVM, we use the Frobenius norm to compare the two versions\n",
    "# of the gradient.\n",
    "grad_difference = np.linalg.norm(grad_naive - grad_vectorized, ord='fro')\n",
    "print('Loss difference: %f' % np.abs(loss_naive - loss_vectorized))\n",
    "print('Gradient difference: %f' % grad_difference)"
   ]
  },
  {
   "cell_type": "code",
   "execution_count": 6,
   "metadata": {
    "collapsed": false
   },
   "outputs": [
    {
     "name": "stdout",
     "output_type": "stream",
     "text": [
      "iteration 0 / 3000: loss 385.541434\n",
      "iteration 100 / 3000: loss 232.875252\n",
      "iteration 200 / 3000: loss 141.597733\n",
      "iteration 300 / 3000: loss 86.385407\n",
      "iteration 400 / 3000: loss 53.123799\n",
      "iteration 500 / 3000: loss 32.764595\n",
      "iteration 600 / 3000: loss 20.570968\n",
      "iteration 700 / 3000: loss 13.326298\n",
      "iteration 800 / 3000: loss 8.808397\n",
      "iteration 900 / 3000: loss 6.120652\n",
      "iteration 1000 / 3000: loss 4.520368\n",
      "iteration 1100 / 3000: loss 3.508457\n",
      "iteration 1200 / 3000: loss 2.955548\n",
      "iteration 1300 / 3000: loss 2.517375\n",
      "iteration 1400 / 3000: loss 2.382713\n",
      "iteration 1500 / 3000: loss 2.169478\n",
      "iteration 1600 / 3000: loss 2.141647\n",
      "iteration 1700 / 3000: loss 2.096388\n",
      "iteration 1800 / 3000: loss 2.093330\n",
      "iteration 1900 / 3000: loss 2.088811\n",
      "iteration 2000 / 3000: loss 2.045192\n",
      "iteration 2100 / 3000: loss 2.158197\n",
      "iteration 2200 / 3000: loss 2.111671\n",
      "iteration 2300 / 3000: loss 2.051190\n",
      "iteration 2400 / 3000: loss 2.022448\n",
      "iteration 2500 / 3000: loss 1.969251\n",
      "iteration 2600 / 3000: loss 2.110010\n",
      "iteration 2700 / 3000: loss 1.949270\n",
      "iteration 2800 / 3000: loss 2.063411\n",
      "iteration 2900 / 3000: loss 2.013650\n",
      "iteration 0 / 3000: loss 779.433288\n",
      "iteration 100 / 3000: loss 286.087776\n",
      "iteration 200 / 3000: loss 106.120988\n",
      "iteration 300 / 3000: loss 40.084703\n",
      "iteration 400 / 3000: loss 16.035654\n",
      "iteration 500 / 3000: loss 7.214610\n",
      "iteration 600 / 3000: loss 3.968441\n",
      "iteration 700 / 3000: loss 2.825088\n",
      "iteration 800 / 3000: loss 2.332421\n",
      "iteration 900 / 3000: loss 2.197398\n",
      "iteration 1000 / 3000: loss 2.119398\n",
      "iteration 1100 / 3000: loss 2.076024\n",
      "iteration 1200 / 3000: loss 2.111066\n",
      "iteration 1300 / 3000: loss 2.061047\n",
      "iteration 1400 / 3000: loss 2.072511\n",
      "iteration 1500 / 3000: loss 2.090154\n",
      "iteration 1600 / 3000: loss 2.091622\n",
      "iteration 1700 / 3000: loss 2.050510\n",
      "iteration 1800 / 3000: loss 2.061869\n",
      "iteration 1900 / 3000: loss 2.036170\n",
      "iteration 2000 / 3000: loss 2.057590\n",
      "iteration 2100 / 3000: loss 2.129264\n",
      "iteration 2200 / 3000: loss 2.069458\n",
      "iteration 2300 / 3000: loss 2.071897\n",
      "iteration 2400 / 3000: loss 2.099730\n",
      "iteration 2500 / 3000: loss 2.070446\n",
      "iteration 2600 / 3000: loss 2.073630\n",
      "iteration 2700 / 3000: loss 2.102476\n",
      "iteration 2800 / 3000: loss 2.073704\n",
      "iteration 2900 / 3000: loss 2.109845\n",
      "iteration 0 / 3000: loss 389.024283\n",
      "iteration 100 / 3000: loss 32.933875\n",
      "iteration 200 / 3000: loss 4.565134\n",
      "iteration 300 / 3000: loss 2.279207\n",
      "iteration 400 / 3000: loss 2.007366\n",
      "iteration 500 / 3000: loss 2.007140\n",
      "iteration 600 / 3000: loss 2.043352\n",
      "iteration 700 / 3000: loss 1.957369\n",
      "iteration 800 / 3000: loss 1.997327\n",
      "iteration 900 / 3000: loss 2.034591\n",
      "iteration 1000 / 3000: loss 2.006590\n",
      "iteration 1100 / 3000: loss 2.012156\n",
      "iteration 1200 / 3000: loss 2.061725\n",
      "iteration 1300 / 3000: loss 2.031722\n",
      "iteration 1400 / 3000: loss 2.005716\n",
      "iteration 1500 / 3000: loss 2.025535\n",
      "iteration 1600 / 3000: loss 2.068167\n",
      "iteration 1700 / 3000: loss 2.060980\n",
      "iteration 1800 / 3000: loss 2.000237\n",
      "iteration 1900 / 3000: loss 2.043577\n",
      "iteration 2000 / 3000: loss 2.062565\n",
      "iteration 2100 / 3000: loss 2.051633\n",
      "iteration 2200 / 3000: loss 2.051282\n",
      "iteration 2300 / 3000: loss 2.028523\n",
      "iteration 2400 / 3000: loss 1.992825\n",
      "iteration 2500 / 3000: loss 2.018673\n",
      "iteration 2600 / 3000: loss 2.013703\n",
      "iteration 2700 / 3000: loss 2.063035\n",
      "iteration 2800 / 3000: loss 2.080488\n",
      "iteration 2900 / 3000: loss 2.002088\n",
      "iteration 0 / 3000: loss 767.332483\n",
      "iteration 100 / 3000: loss 6.865535\n",
      "iteration 200 / 3000: loss 2.112992\n",
      "iteration 300 / 3000: loss 2.109243\n",
      "iteration 400 / 3000: loss 2.130696\n",
      "iteration 500 / 3000: loss 2.082624\n",
      "iteration 600 / 3000: loss 2.027903\n",
      "iteration 700 / 3000: loss 2.071358\n",
      "iteration 800 / 3000: loss 2.096199\n",
      "iteration 900 / 3000: loss 2.105933\n",
      "iteration 1000 / 3000: loss 2.084864\n",
      "iteration 1100 / 3000: loss 2.053302\n",
      "iteration 1200 / 3000: loss 2.139026\n",
      "iteration 1300 / 3000: loss 2.124031\n",
      "iteration 1400 / 3000: loss 2.046896\n",
      "iteration 1500 / 3000: loss 2.028203\n",
      "iteration 1600 / 3000: loss 2.059888\n",
      "iteration 1700 / 3000: loss 2.098747\n",
      "iteration 1800 / 3000: loss 2.105634\n",
      "iteration 1900 / 3000: loss 2.082192\n",
      "iteration 2000 / 3000: loss 2.110943\n",
      "iteration 2100 / 3000: loss 2.150947\n",
      "iteration 2200 / 3000: loss 2.101668\n",
      "iteration 2300 / 3000: loss 2.108391\n",
      "iteration 2400 / 3000: loss 2.147601\n",
      "iteration 2500 / 3000: loss 2.161906\n",
      "iteration 2600 / 3000: loss 2.060629\n",
      "iteration 2700 / 3000: loss 2.093209\n",
      "iteration 2800 / 3000: loss 2.119237\n",
      "iteration 2900 / 3000: loss 2.106245\n",
      "lr 1.000000e-07 reg 2.500000e+04 train accuracy: 0.349857 val accuracy: 0.361000\n",
      "lr 1.000000e-07 reg 5.000000e+04 train accuracy: 0.333469 val accuracy: 0.347000\n",
      "lr 5.000000e-07 reg 2.500000e+04 train accuracy: 0.340837 val accuracy: 0.356000\n",
      "lr 5.000000e-07 reg 5.000000e+04 train accuracy: 0.324816 val accuracy: 0.345000\n",
      "best validation accuracy achieved during cross-validation: 0.361000\n"
     ]
    }
   ],
   "source": [
    "# Use the validation set to tune hyperparameters (regularization strength and\n",
    "# learning rate). You should experiment with different ranges for the learning\n",
    "# rates and regularization strengths; if you are careful you should be able to\n",
    "# get a classification accuracy of over 0.35 on the validation set.\n",
    "from cs231n.classifiers import Softmax\n",
    "results = {}\n",
    "best_val = -1\n",
    "best_softmax = None\n",
    "learning_rates = [1e-7, 5e-7]\n",
    "regularization_strengths = [2.5e4, 5e4]\n",
    "\n",
    "################################################################################\n",
    "# TODO:                                                                        #\n",
    "# Use the validation set to set the learning rate and regularization strength. #\n",
    "# This should be identical to the validation that you did for the SVM; save    #\n",
    "# the best trained softmax classifer in best_softmax.                          #\n",
    "################################################################################\n",
    "pass\n",
    "for lr in learning_rates:\n",
    "    for rs in regularization_strengths:\n",
    "        softmax = Softmax()\n",
    "        #train our datapoins with specified regularization  and learning rate \n",
    "        #apply verbose to printing the additional information\n",
    "        softmax.train(X_train, y_train, learning_rate = lr, reg=rs, num_iters = 3000,\n",
    "                     verbose = True)\n",
    "        \n",
    "        y_pred_train = softmax.predict(X_train)\n",
    "        acc_train = np.mean(y_pred_train == y_train)\n",
    "        y_pred_val = softmax.predict(X_val)\n",
    "        acc_val = np.mean(y_pred_val == y_val)\n",
    "        results[(lr, rs)] = (acc_train, acc_val)\n",
    "        #find the best validation accuracy in each iteration by comparing each one in the every iteration\n",
    "        if acc_val > best_val:\n",
    "            best_val = acc_val\n",
    "            best_softmax = softmax\n",
    "################################################################################\n",
    "#                              END OF YOUR CODE                                #\n",
    "################################################################################\n",
    "    \n",
    "# Print out results.\n",
    "for lr, reg in sorted(results):\n",
    "    train_accuracy, val_accuracy = results[(lr, reg)]\n",
    "    print('lr %e reg %e train accuracy: %f val accuracy: %f' % (\n",
    "                lr, reg, train_accuracy, val_accuracy))\n",
    "    \n",
    "print('best validation accuracy achieved during cross-validation: %f' % best_val)"
   ]
  },
  {
   "cell_type": "code",
   "execution_count": 7,
   "metadata": {
    "collapsed": false
   },
   "outputs": [
    {
     "name": "stdout",
     "output_type": "stream",
     "text": [
      "softmax on raw pixels final test set accuracy: 0.364000\n"
     ]
    }
   ],
   "source": [
    "# evaluate on test set\n",
    "# Evaluate the best softmax on test set\n",
    "y_test_pred = best_softmax.predict(X_test)\n",
    "test_accuracy = np.mean(y_test == y_test_pred)\n",
    "print('softmax on raw pixels final test set accuracy: %f' % (test_accuracy, ))"
   ]
  },
  {
   "cell_type": "code",
   "execution_count": 8,
   "metadata": {
    "collapsed": false
   },
   "outputs": [
    {
     "data": {
      "image/png": "[encoded data removed]",
      "text/plain": [
       "<matplotlib.figure.Figure at 0x7f66d317a110>"
      ]
     },
     "metadata": {},
     "output_type": "display_data"
    }
   ],
   "source": [
    "# Visualize the learned weights for each class\n",
    "w = best_softmax.W[:-1,:] # strip out the bias\n",
    "w = w.reshape(32, 32, 3, 10)\n",
    "\n",
    "w_min, w_max = np.min(w), np.max(w)\n",
    "\n",
    "classes = ['plane', 'car', 'bird', 'cat', 'deer', 'dog', 'frog', 'horse', 'ship', 'truck']\n",
    "for i in range(10):\n",
    "    plt.subplot(2, 5, i + 1)\n",
    "    \n",
    "    # Rescale the weights to be between 0 and 255\n",
    "    wimg = 255.0 * (w[:, :, :, i].squeeze() - w_min) / (w_max - w_min)\n",
    "    plt.imshow(wimg.astype('uint8'))\n",
    "    plt.axis('off')\n",
    "    plt.title(classes[i])"
   ]
  },
  {
   "cell_type": "code",
   "execution_count": null,
   "metadata": {},
   "outputs": [],
   "source": []
  },
  {
   "cell_type": "code",
   "execution_count": null,
   "metadata": {},
   "outputs": [],
   "source": []
  },
  {
   "cell_type": "code",
   "execution_count": null,
   "metadata": {},
   "outputs": [],
   "source": []
  },
  {
   "cell_type": "code",
   "execution_count": null,
   "metadata": {},
   "outputs": [],
   "source": []
  },
  {
   "cell_type": "code",
   "execution_count": null,
   "metadata": {},
   "outputs": [],
   "source": []
  },
  {
   "cell_type": "code",
   "execution_count": null,
   "metadata": {},
   "outputs": [],
   "source": []
  },
  {
   "cell_type": "code",
   "execution_count": null,
   "metadata": {},
   "outputs": [],
   "source": []
  }
 ],
 "metadata": {
  "kernelspec": {
   "display_name": "Python 2",
   "language": "python",
   "name": "python2"
  },
  "language_info": {
   "codemirror_mode": {
    "name": "ipython",
    "version": 2
   },
   "file_extension": ".py",
   "mimetype": "text/x-python",
   "name": "python",
   "nbconvert_exporter": "python",
   "pygments_lexer": "ipython2",
   "version": "2.7.14"
  }
 },
 "nbformat": 4,
 "nbformat_minor": 2
}
